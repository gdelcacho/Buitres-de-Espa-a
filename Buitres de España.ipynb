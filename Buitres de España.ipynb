{
 "cells": [
  {
   "cell_type": "code",
   "execution_count": 2,
   "id": "bb4557a6",
   "metadata": {},
   "outputs": [],
   "source": [
    "# Carga e instalación de bibliotecas necesarias\n",
    "#!pip install fastai\n",
    "#!pip install -Uqq fastbook\n",
    "#!pip install voila\n",
    "#!jupyter serverextension enable --sys-prefix voila\n",
    "\n",
    "from fastbook import *\n",
    "from fastai import *\n",
    "from fastai.vision.widgets import *\n",
    "import ipywidgets as widgets"
   ]
  },
  {
   "cell_type": "code",
   "execution_count": null,
   "id": "072f6733",
   "metadata": {},
   "outputs": [],
   "source": [
    "# Carga del modelo\n",
    "learn_inf = load_learner(\"export.pkl\")"
   ]
  },
  {
   "cell_type": "code",
   "execution_count": null,
   "id": "369bbfb9",
   "metadata": {},
   "outputs": [],
   "source": [
    "# Widgets\n",
    "# Botón subir imagen\n",
    "btn_upload = widgets.FileUpload(description=\"Subir\")\n",
    "# Salida\n",
    "out_pl = widgets.Output()\n",
    "# Botón de clasificación\n",
    "btn_run = widgets.Button(description=\"Clasificar\")\n",
    "# Etiqueta\n",
    "lbl_pred = widgets.Label()"
   ]
  },
  {
   "cell_type": "code",
   "execution_count": null,
   "id": "ca7dc6a0",
   "metadata": {},
   "outputs": [],
   "source": [
    "def on_click_classify(change):\n",
    "    '''\n",
    "    Carga una imagen de un buitre, la muestra e indica\n",
    "    su especie\n",
    "    '''\n",
    "    img = PILImage.create(btn_upload.data[-1])\n",
    "    out_pl.clear_output()\n",
    "    with out_pl: display(img.to_thumb(128, 128))\n",
    "    pred, pred_idx, probs = learn_inf.predict(img)\n",
    "    lbl_pred.value = f\"Predicción: {pred}; Probabilidad: {probs[pred_idx]:.04f}\""
   ]
  },
  {
   "cell_type": "code",
   "execution_count": null,
   "id": "15247429",
   "metadata": {},
   "outputs": [],
   "source": [
    "# Ejecuta la función on_click... al pulsar el clasificador\n",
    "btn_run.on_click(on_click_classify)"
   ]
  },
  {
   "cell_type": "code",
   "execution_count": null,
   "id": "15c93a4d",
   "metadata": {},
   "outputs": [],
   "source": [
    "VBox([widgets.Label(\"¡¿Qué especie de buitre es?!\"),\n",
    "      btn_upload, btn_run, out_pl, lbl_pred])"
   ]
  }
 ],
 "metadata": {
  "kernelspec": {
   "display_name": "Python 3 (ipykernel)",
   "language": "python",
   "name": "python3"
  },
  "language_info": {
   "codemirror_mode": {
    "name": "ipython",
    "version": 3
   },
   "file_extension": ".py",
   "mimetype": "text/x-python",
   "name": "python",
   "nbconvert_exporter": "python",
   "pygments_lexer": "ipython3",
   "version": "3.9.7"
  }
 },
 "nbformat": 4,
 "nbformat_minor": 5
}
